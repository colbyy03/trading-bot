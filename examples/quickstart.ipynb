{
 "cells": [
  {
   "cell_type": "markdown",
   "metadata": {},
   "source": [
    "# Trading Bot Quickstart\n",
    "This notebook demonstrates fetching Polygon data, running a backtest, and visualising results."
   ]
  },
  {
   "cell_type": "code",
   "execution_count": null,
   "metadata": {},
   "outputs": [],
   "source": [
    "from pathlib import Path\n",
    "from trading_bot.data import PolygonDataSource\n",
    "from trading_bot.backtest import BacktestEngine\n",
    "from trading_bot.config import Config, StrategyConfig\n",
    "\n",
    "ds = PolygonDataSource()\n",
    "df = ds.fetch_and_cache(\"SPY\", start=\"2023-01-01\", end=\"2023-03-31\", bar_size=\"1min\")\n",
    "df.tail()"
   ]
  },
  {
   "cell_type": "code",
   "execution_count": null,
   "metadata": {},
   "outputs": [],
   "source": [
    "config = Config(\n",
    "    tickers=[\"SPY\"],\n",
    "    bar_size=\"1min\",\n",
    "    start=\"2023-01-01\",\n",
    "    end=\"2023-03-31\",\n",
    "    strategy=StrategyConfig(name=\"sma_cross\", params={\"fast\": 10, \"slow\": 20}),\n",
    ")\n",
    "engine = BacktestEngine()\n",
    "result = engine.run(df, config, report_path=Path(\"reports/demo_sma\"))\n",
    "result.summary"
   ]
  }
 ],
 "metadata": {
  "kernelspec": {
   "display_name": "Python 3",
   "language": "python",
   "name": "python3"
  },
  "language_info": {
   "name": "python",
   "version": "3.11"
  }
 },
 "nbformat": 4,
 "nbformat_minor": 5
}
